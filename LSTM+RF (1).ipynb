{
  "nbformat": 4,
  "nbformat_minor": 0,
  "metadata": {
    "colab": {
      "provenance": []
    },
    "kernelspec": {
      "name": "python3",
      "display_name": "Python 3"
    },
    "language_info": {
      "name": "python"
    }
  },
  "cells": [
    {
      "cell_type": "code",
      "execution_count": 92,
      "metadata": {
        "colab": {
          "base_uri": "https://localhost:8080/"
        },
        "id": "5mlHouRWcUyI",
        "outputId": "56c3ca13-658c-406e-9c17-1354908b91ee"
      },
      "outputs": [
        {
          "output_type": "stream",
          "name": "stdout",
          "text": [
            "<class 'pandas.core.frame.DataFrame'>\n",
            "RangeIndex: 993 entries, 0 to 992\n",
            "Data columns (total 15 columns):\n",
            " #   Column                Non-Null Count  Dtype  \n",
            "---  ------                --------------  -----  \n",
            " 0   Time(hours)           993 non-null    object \n",
            " 1   Hole (Nos)            993 non-null    int64  \n",
            " 2   Depth (m)             993 non-null    object \n",
            " 3   Spacing(m)            993 non-null    float64\n",
            " 4   Burden (m)            993 non-null    float64\n",
            " 5   Stemming(m)           993 non-null    object \n",
            " 6   Decking(m)            993 non-null    object \n",
            " 7   Total Drill (RMT)     992 non-null    object \n",
            " 8   Explosive(kg)         993 non-null    float64\n",
            " 9   Volume(m3)            993 non-null    float64\n",
            " 10  Powder Factor(kg/m3)  993 non-null    float64\n",
            " 11  Av. CPH               993 non-null    float64\n",
            " 12  MCPD (kg/D)           992 non-null    object \n",
            " 13  Seis. Dist. (m)       930 non-null    float64\n",
            " 14  PPV MON               895 non-null    object \n",
            "dtypes: float64(7), int64(1), object(7)\n",
            "memory usage: 116.5+ KB\n"
          ]
        },
        {
          "output_type": "execute_result",
          "data": {
            "text/plain": [
              "(None,\n",
              "   Time(hours)  Hole (Nos) Depth (m)  Spacing(m)  Burden (m) Stemming(m)  \\\n",
              " 0      5.04PM          69        11         3.0         3.0           3   \n",
              " 1      5.36PM          30       7.5         3.2         2.8           3   \n",
              " 2      5.07PM          33       4.5         3.0         3.0         2.5   \n",
              " 3      5.06PM          30       6.5         3.5         2.8           3   \n",
              " 4      5.07PM          21       6.5         3.8         3.0         2.5   \n",
              " \n",
              "   Decking(m) Total Drill (RMT)  Explosive(kg)  Volume(m3)  \\\n",
              " 0        1.5               850        3875.00     6831.00   \n",
              " 1        NIL               225        1050.00     2016.00   \n",
              " 2        NIL             148.5         469.46     1336.50   \n",
              " 3        NIL               214         659.00     1969.80   \n",
              " 4        NIL               140         525.00     1603.98   \n",
              " \n",
              "    Powder Factor(kg/m3)  Av. CPH MCPD (kg/D)  Seis. Dist. (m) PPV MON  \n",
              " 0                  0.57    56.52         113            360.0    10.5  \n",
              " 1                  0.52    35.00          35            315.0    2.75  \n",
              " 2                  0.35    14.22       28.44            410.0    1.45  \n",
              " 3                  0.33    21.66       43.33            465.0   0.992  \n",
              " 4                  0.32    25.00          50            290.0    5.12  )"
            ]
          },
          "metadata": {},
          "execution_count": 92
        }
      ],
      "source": [
        "import pandas as pd\n",
        "\n",
        "# Load the dataset\n",
        "file_path = \"/content/blast_data_M (2).csv\"\n",
        "df = pd.read_csv(file_path)\n",
        "\n",
        "# Display basic info before cleaning\n",
        "df.info(), df.head()"
      ]
    },
    {
      "cell_type": "code",
      "source": [
        "import numpy as np\n",
        "\n",
        "# Replace 'NIL' and 'NA' with NaN\n",
        "df.replace([\"NIL\", \"NA\", \"\"], np.nan, inplace=True)\n",
        "\n",
        "# Convert numeric columns to proper data types\n",
        "numeric_cols = [\"Depth (m)\", \"Stemming(m)\", \"Decking(m)\", \"Total Drill (RMT)\", \"MCPD (kg/D)\", \"PPV MON\"]\n",
        "for col in numeric_cols:\n",
        "    df[col] = pd.to_numeric(df[col], errors='coerce')\n",
        "\n",
        "# Drop duplicate rows if any exist\n",
        "df.drop_duplicates(inplace=True)\n",
        "\n",
        "# Check the dataset after cleaning\n",
        "df.info(), df.head()\n"
      ],
      "metadata": {
        "colab": {
          "base_uri": "https://localhost:8080/"
        },
        "id": "mnRQwZNZc6mW",
        "outputId": "b8114beb-cdb3-4ee1-ef14-4961f7aadf36"
      },
      "execution_count": 93,
      "outputs": [
        {
          "output_type": "stream",
          "name": "stdout",
          "text": [
            "<class 'pandas.core.frame.DataFrame'>\n",
            "Index: 992 entries, 0 to 992\n",
            "Data columns (total 15 columns):\n",
            " #   Column                Non-Null Count  Dtype  \n",
            "---  ------                --------------  -----  \n",
            " 0   Time(hours)           992 non-null    object \n",
            " 1   Hole (Nos)            992 non-null    int64  \n",
            " 2   Depth (m)             991 non-null    float64\n",
            " 3   Spacing(m)            992 non-null    float64\n",
            " 4   Burden (m)            992 non-null    float64\n",
            " 5   Stemming(m)           990 non-null    float64\n",
            " 6   Decking(m)            494 non-null    float64\n",
            " 7   Total Drill (RMT)     990 non-null    float64\n",
            " 8   Explosive(kg)         992 non-null    float64\n",
            " 9   Volume(m3)            992 non-null    float64\n",
            " 10  Powder Factor(kg/m3)  992 non-null    float64\n",
            " 11  Av. CPH               992 non-null    float64\n",
            " 12  MCPD (kg/D)           990 non-null    float64\n",
            " 13  Seis. Dist. (m)       929 non-null    float64\n",
            " 14  PPV MON               893 non-null    float64\n",
            "dtypes: float64(13), int64(1), object(1)\n",
            "memory usage: 124.0+ KB\n"
          ]
        },
        {
          "output_type": "execute_result",
          "data": {
            "text/plain": [
              "(None,\n",
              "   Time(hours)  Hole (Nos)  Depth (m)  Spacing(m)  Burden (m)  Stemming(m)  \\\n",
              " 0      5.04PM          69       11.0         3.0         3.0          3.0   \n",
              " 1      5.36PM          30        7.5         3.2         2.8          3.0   \n",
              " 2      5.07PM          33        4.5         3.0         3.0          2.5   \n",
              " 3      5.06PM          30        6.5         3.5         2.8          3.0   \n",
              " 4      5.07PM          21        6.5         3.8         3.0          2.5   \n",
              " \n",
              "    Decking(m)  Total Drill (RMT)  Explosive(kg)  Volume(m3)  \\\n",
              " 0         1.5              850.0        3875.00     6831.00   \n",
              " 1         NaN              225.0        1050.00     2016.00   \n",
              " 2         NaN              148.5         469.46     1336.50   \n",
              " 3         NaN              214.0         659.00     1969.80   \n",
              " 4         NaN              140.0         525.00     1603.98   \n",
              " \n",
              "    Powder Factor(kg/m3)  Av. CPH  MCPD (kg/D)  Seis. Dist. (m)  PPV MON  \n",
              " 0                  0.57    56.52       113.00            360.0   10.500  \n",
              " 1                  0.52    35.00        35.00            315.0    2.750  \n",
              " 2                  0.35    14.22        28.44            410.0    1.450  \n",
              " 3                  0.33    21.66        43.33            465.0    0.992  \n",
              " 4                  0.32    25.00        50.00            290.0    5.120  )"
            ]
          },
          "metadata": {},
          "execution_count": 93
        }
      ]
    },
    {
      "cell_type": "code",
      "source": [
        "# Drop the specified columns\n",
        "columns_to_drop = ['Time(hours)']\n",
        "df.drop(columns=columns_to_drop, inplace=True)\n",
        "\n",
        "# Display the updated dataset info\n",
        "df.info(), df.head()\n"
      ],
      "metadata": {
        "colab": {
          "base_uri": "https://localhost:8080/"
        },
        "id": "4w00HDXJc__V",
        "outputId": "a8fdc99c-2395-4aab-b3df-59b5eecc4184"
      },
      "execution_count": 94,
      "outputs": [
        {
          "output_type": "stream",
          "name": "stdout",
          "text": [
            "<class 'pandas.core.frame.DataFrame'>\n",
            "Index: 992 entries, 0 to 992\n",
            "Data columns (total 14 columns):\n",
            " #   Column                Non-Null Count  Dtype  \n",
            "---  ------                --------------  -----  \n",
            " 0   Hole (Nos)            992 non-null    int64  \n",
            " 1   Depth (m)             991 non-null    float64\n",
            " 2   Spacing(m)            992 non-null    float64\n",
            " 3   Burden (m)            992 non-null    float64\n",
            " 4   Stemming(m)           990 non-null    float64\n",
            " 5   Decking(m)            494 non-null    float64\n",
            " 6   Total Drill (RMT)     990 non-null    float64\n",
            " 7   Explosive(kg)         992 non-null    float64\n",
            " 8   Volume(m3)            992 non-null    float64\n",
            " 9   Powder Factor(kg/m3)  992 non-null    float64\n",
            " 10  Av. CPH               992 non-null    float64\n",
            " 11  MCPD (kg/D)           990 non-null    float64\n",
            " 12  Seis. Dist. (m)       929 non-null    float64\n",
            " 13  PPV MON               893 non-null    float64\n",
            "dtypes: float64(13), int64(1)\n",
            "memory usage: 116.2 KB\n"
          ]
        },
        {
          "output_type": "execute_result",
          "data": {
            "text/plain": [
              "(None,\n",
              "    Hole (Nos)  Depth (m)  Spacing(m)  Burden (m)  Stemming(m)  Decking(m)  \\\n",
              " 0          69       11.0         3.0         3.0          3.0         1.5   \n",
              " 1          30        7.5         3.2         2.8          3.0         NaN   \n",
              " 2          33        4.5         3.0         3.0          2.5         NaN   \n",
              " 3          30        6.5         3.5         2.8          3.0         NaN   \n",
              " 4          21        6.5         3.8         3.0          2.5         NaN   \n",
              " \n",
              "    Total Drill (RMT)  Explosive(kg)  Volume(m3)  Powder Factor(kg/m3)  \\\n",
              " 0              850.0        3875.00     6831.00                  0.57   \n",
              " 1              225.0        1050.00     2016.00                  0.52   \n",
              " 2              148.5         469.46     1336.50                  0.35   \n",
              " 3              214.0         659.00     1969.80                  0.33   \n",
              " 4              140.0         525.00     1603.98                  0.32   \n",
              " \n",
              "    Av. CPH  MCPD (kg/D)  Seis. Dist. (m)  PPV MON  \n",
              " 0    56.52       113.00            360.0   10.500  \n",
              " 1    35.00        35.00            315.0    2.750  \n",
              " 2    14.22        28.44            410.0    1.450  \n",
              " 3    21.66        43.33            465.0    0.992  \n",
              " 4    25.00        50.00            290.0    5.120  )"
            ]
          },
          "metadata": {},
          "execution_count": 94
        }
      ]
    },
    {
      "cell_type": "code",
      "source": [
        "from sklearn.impute import SimpleImputer\n",
        "df = pd.get_dummies(df, drop_first=True)\n",
        "\n",
        "# Handle missing values\n",
        "imputer = SimpleImputer(strategy='mean')\n",
        "df = pd.DataFrame(imputer.fit_transform(df), columns=df.columns)\n",
        "\n",
        "# Remove duplicates\n",
        "df = df.drop_duplicates()\n",
        "df.info(),df.head()"
      ],
      "metadata": {
        "colab": {
          "base_uri": "https://localhost:8080/"
        },
        "id": "kGUOOuJBdHun",
        "outputId": "312cd422-7c20-4ece-8e50-97a44d0f092f"
      },
      "execution_count": 95,
      "outputs": [
        {
          "output_type": "stream",
          "name": "stdout",
          "text": [
            "<class 'pandas.core.frame.DataFrame'>\n",
            "Index: 978 entries, 0 to 991\n",
            "Data columns (total 14 columns):\n",
            " #   Column                Non-Null Count  Dtype  \n",
            "---  ------                --------------  -----  \n",
            " 0   Hole (Nos)            978 non-null    float64\n",
            " 1   Depth (m)             978 non-null    float64\n",
            " 2   Spacing(m)            978 non-null    float64\n",
            " 3   Burden (m)            978 non-null    float64\n",
            " 4   Stemming(m)           978 non-null    float64\n",
            " 5   Decking(m)            978 non-null    float64\n",
            " 6   Total Drill (RMT)     978 non-null    float64\n",
            " 7   Explosive(kg)         978 non-null    float64\n",
            " 8   Volume(m3)            978 non-null    float64\n",
            " 9   Powder Factor(kg/m3)  978 non-null    float64\n",
            " 10  Av. CPH               978 non-null    float64\n",
            " 11  MCPD (kg/D)           978 non-null    float64\n",
            " 12  Seis. Dist. (m)       978 non-null    float64\n",
            " 13  PPV MON               978 non-null    float64\n",
            "dtypes: float64(14)\n",
            "memory usage: 114.6 KB\n"
          ]
        },
        {
          "output_type": "execute_result",
          "data": {
            "text/plain": [
              "(None,\n",
              "    Hole (Nos)  Depth (m)  Spacing(m)  Burden (m)  Stemming(m)  Decking(m)  \\\n",
              " 0        69.0       11.0         3.0         3.0          3.0    1.500000   \n",
              " 1        30.0        7.5         3.2         2.8          3.0    1.075101   \n",
              " 2        33.0        4.5         3.0         3.0          2.5    1.075101   \n",
              " 3        30.0        6.5         3.5         2.8          3.0    1.075101   \n",
              " 4        21.0        6.5         3.8         3.0          2.5    1.075101   \n",
              " \n",
              "    Total Drill (RMT)  Explosive(kg)  Volume(m3)  Powder Factor(kg/m3)  \\\n",
              " 0              850.0        3875.00     6831.00                  0.57   \n",
              " 1              225.0        1050.00     2016.00                  0.52   \n",
              " 2              148.5         469.46     1336.50                  0.35   \n",
              " 3              214.0         659.00     1969.80                  0.33   \n",
              " 4              140.0         525.00     1603.98                  0.32   \n",
              " \n",
              "    Av. CPH  MCPD (kg/D)  Seis. Dist. (m)  PPV MON  \n",
              " 0    56.52       113.00            360.0   10.500  \n",
              " 1    35.00        35.00            315.0    2.750  \n",
              " 2    14.22        28.44            410.0    1.450  \n",
              " 3    21.66        43.33            465.0    0.992  \n",
              " 4    25.00        50.00            290.0    5.120  )"
            ]
          },
          "metadata": {},
          "execution_count": 95
        }
      ]
    },
    {
      "cell_type": "code",
      "source": [
        "import numpy as np\n",
        "import pandas as pd\n",
        "from sklearn.model_selection import train_test_split\n",
        "from sklearn.preprocessing import StandardScaler, MinMaxScaler\n",
        "from sklearn.impute import SimpleImputer\n",
        "from sklearn.ensemble import RandomForestRegressor\n",
        "from sklearn.metrics import mean_squared_error, r2_score\n",
        "import tensorflow as tf\n",
        "from tensorflow.keras.models import Sequential\n",
        "from tensorflow.keras.layers import Dense, LSTM, Dropout\n",
        "\n",
        "# Define features and target variable\n",
        "X = df.drop(columns=['PPV MON'])  # Features\n",
        "y = df['PPV MON']  # Target variable\n",
        "\n",
        "# Check for constant values in target variable\n",
        "y_var = y.var()\n",
        "if y_var == 0:\n",
        "    raise ValueError(\"Target variable has zero variance. Model cannot be trained.\")\n",
        "\n",
        "# Train-test split (80-20)\n",
        "X_train, X_test, y_train, y_test = train_test_split(X, y, test_size=0.2, random_state=42)\n",
        "\n",
        "# Standardization for features only\n",
        "scaler_X = StandardScaler()\n",
        "X_train_scaled = scaler_X.fit_transform(X_train)\n",
        "X_test_scaled = scaler_X.transform(X_test)\n",
        "\n",
        "# Reshape for LSTM\n",
        "X_train_dl = X_train_scaled.reshape(X_train_scaled.shape[0], X_train_scaled.shape[1], 1)\n",
        "X_test_dl = X_test_scaled.reshape(X_test_scaled.shape[0], X_test_scaled.shape[1], 1)\n",
        "\n",
        "# LSTM Model\n",
        "lstm = Sequential([\n",
        "    LSTM(64, activation='relu', return_sequences=True, input_shape=(X_train_dl.shape[1], 1)),\n",
        "    Dropout(0.3),\n",
        "    LSTM(32, activation='relu', return_sequences=True),\n",
        "    Dropout(0.3),\n",
        "    LSTM(16, activation='relu', return_sequences=False),\n",
        "    Dropout(0.2),\n",
        "    Dense(1)\n",
        "])\n",
        "lstm.compile(optimizer='adam', loss='mse')\n",
        "lstm.fit(X_train_dl, y_train, epochs=50, batch_size=32, verbose=0)\n",
        "\n",
        "# Predict using LSTM\n",
        "y_pred_lstm = lstm.predict(X_test_dl).flatten()\n",
        "\n",
        "# Train Random Forest on LSTM predictions\n",
        "rf = RandomForestRegressor(n_estimators=15, max_depth=15, random_state=42)\n",
        "rf.fit(y_pred_lstm.reshape(-1, 1), y_test)\n",
        "\n",
        "# Final hybrid predictions\n",
        "y_pred_hybrid = rf.predict(y_pred_lstm.reshape(-1, 1))\n",
        "\n",
        "\n"
      ],
      "metadata": {
        "colab": {
          "base_uri": "https://localhost:8080/"
        },
        "id": "N26jYHNXdNXB",
        "outputId": "681d707e-c054-476e-90a0-92eff138e328"
      },
      "execution_count": 96,
      "outputs": [
        {
          "output_type": "stream",
          "name": "stderr",
          "text": [
            "/usr/local/lib/python3.11/dist-packages/keras/src/layers/rnn/rnn.py:200: UserWarning: Do not pass an `input_shape`/`input_dim` argument to a layer. When using Sequential models, prefer using an `Input(shape)` object as the first layer in the model instead.\n",
            "  super().__init__(**kwargs)\n"
          ]
        },
        {
          "output_type": "stream",
          "name": "stdout",
          "text": [
            "\u001b[1m7/7\u001b[0m \u001b[32m━━━━━━━━━━━━━━━━━━━━\u001b[0m\u001b[37m\u001b[0m \u001b[1m1s\u001b[0m 125ms/step\n"
          ]
        }
      ]
    },
    {
      "cell_type": "code",
      "source": [
        "# Evaluate Hybrid Model\n",
        "r2_hybrid = r2_score(y_test, y_pred_hybrid)\n",
        "mse_hybrid = mean_squared_error(y_test, y_pred_hybrid)\n",
        "rmse_hybrid = np.sqrt(mse_hybrid)\n",
        "\n"
      ],
      "metadata": {
        "id": "vYKQ2WlpPc9Y"
      },
      "execution_count": 97,
      "outputs": []
    },
    {
      "cell_type": "code",
      "source": [
        "# Normalize MSE and RMSE\n",
        "scaler_mse_rmse = MinMaxScaler()\n",
        "mse_rmse_values = np.array([[mse_hybrid, rmse_hybrid]])\n",
        "scaled_mse_rmse = scaler_mse_rmse.fit_transform(mse_rmse_values)\n",
        "\n"
      ],
      "metadata": {
        "id": "nkiDY6KVPfBA"
      },
      "execution_count": 98,
      "outputs": []
    },
    {
      "cell_type": "code",
      "source": [
        "if len(y_test) == len(y_pred_hybrid):\n",
        "    mse_hybrid = mean_squared_error(y_test, y_pred_hybrid)\n",
        "    rmse_hybrid = np.sqrt(mse_hybrid)\n",
        "else:\n",
        "    print(\"Warning: Mismatch in test set and prediction length.\")\n",
        "    mse_hybrid, rmse_hybrid = float('nan'), float('nan')\n",
        "\n",
        "# Evaluate Hybrid Model\n",
        "r2_hybrid = r2_score(y_test, y_pred_hybrid)\n",
        "\n",
        "# Normalize MSE and RMSE\n",
        "scaler_mse_rmse = MinMaxScaler()\n",
        "mse_rmse_values = np.array([[mse_hybrid, rmse_hybrid]])\n",
        "scaled_mse_rmse = scaler_mse_rmse.fit_transform(mse_rmse_values) if not np.isnan(mse_hybrid) else [[float('nan'), float('nan')]]"
      ],
      "metadata": {
        "id": "6QFVdJ69QB49"
      },
      "execution_count": 82,
      "outputs": []
    },
    {
      "cell_type": "code",
      "source": [
        "# Results dictionary\n",
        "results = [{\n",
        "    \"Model\": \"Hybrid LSTM+RF\",\n",
        "    \"R2 Score\": r2_hybrid,\n",
        "    \"MSE\": scaled_mse_rmse[0, 0],\n",
        "    \"RMSE\": scaled_mse_rmse[0, 1]\n",
        "}]\n",
        "\n",
        "# Convert results to DataFrame\n",
        "results_df = pd.DataFrame(results)\n",
        "print(results_df.to_string(index=False))"
      ],
      "metadata": {
        "id": "jOt3q3s0Pgr-",
        "outputId": "bd176a7d-24f7-4163-a996-e2180dadd77b",
        "colab": {
          "base_uri": "https://localhost:8080/"
        }
      },
      "execution_count": 99,
      "outputs": [
        {
          "output_type": "stream",
          "name": "stdout",
          "text": [
            "         Model  R2 Score  MSE  RMSE\n",
            "Hybrid LSTM+RF  0.974195  0.0   0.0\n"
          ]
        }
      ]
    },
    {
      "cell_type": "code",
      "source": [
        "\n",
        "# Classify PPV into application categories\n",
        "def classify_ppv(ppv):\n",
        "    if 50 <= ppv <= 150:\n",
        "        return \"Coal Mine Blasting\"\n",
        "    elif 5 <= ppv <= 25:\n",
        "        return \"Quarry Blasting\"\n",
        "    elif 2 <= ppv <= 10:\n",
        "        return \"Urban Construction\"\n",
        "    elif 5 <= ppv <= 20:\n",
        "        return \"Industrial Facilities\"\n",
        "    elif 2 <= ppv <= 5:\n",
        "        return \"Residential Areas\"\n",
        "    elif 1 <= ppv <= 2:\n",
        "        return \"Historic or Heritage Sites\"\n",
        "    elif 10 <= ppv <= 50:\n",
        "        return \"Highway or Tunnel Blasting\"\n",
        "    elif 2 <= ppv <= 8:\n",
        "        return \"Dams and Reservoirs\"\n",
        "    elif 5 <= ppv <= 15:\n",
        "        return \"Pipeline and Utility Zones\"\n",
        "    else:\n",
        "        return \"Unknown Category\"\n",
        "\n"
      ],
      "metadata": {
        "id": "I20l1giAPzpl"
      },
      "execution_count": 100,
      "outputs": []
    },
    {
      "cell_type": "code",
      "source": [
        "expected_features = X.shape[1]"
      ],
      "metadata": {
        "id": "asQO00vOXC7W"
      },
      "execution_count": 101,
      "outputs": []
    },
    {
      "cell_type": "code",
      "source": [
        "def predict_ppv(input_values):\n",
        "    if len(input_values) != expected_features:\n",
        "        raise ValueError(f\"Expected {expected_features} features, but got {len(input_values)}\")\n",
        "    input_scaled = scaler_X.transform(np.array(input_values).reshape(1, -1))\n",
        "    input_reshaped = input_scaled.reshape(1, input_scaled.shape[1], 1)\n",
        "    ppv_pred_lstm = lstm.predict(input_reshaped).flatten()\n",
        "    ppv_pred_rf = rf.predict(ppv_pred_lstm.reshape(-1, 1))\n",
        "    return ppv_pred_rf[0]"
      ],
      "metadata": {
        "id": "wR7TX88hSaVK"
      },
      "execution_count": 102,
      "outputs": []
    },
    {
      "cell_type": "code",
      "source": [
        "print(\"Enter the following values:\")\n",
        "features = list(X.columns)  # Automatically extract feature names\n",
        "input_values = []\n",
        "for feature in features:\n",
        "    value = float(input(f\"{feature}: \"))\n",
        "    input_values.append(value)\n",
        "\n",
        "predicted_ppv = predict_ppv(input_values)\n",
        "predicted_category = classify_ppv(predicted_ppv)\n",
        "\n",
        "print(f\"Predicted PPV: {predicted_ppv:.2f} mm/s\")\n",
        "print(f\"Application Category: {predicted_category}\")"
      ],
      "metadata": {
        "id": "nJKeaW3aWoUy",
        "outputId": "fef7ead8-ad04-4014-f0c1-9dca94684f68",
        "colab": {
          "base_uri": "https://localhost:8080/"
        }
      },
      "execution_count": 103,
      "outputs": [
        {
          "output_type": "stream",
          "name": "stdout",
          "text": [
            "Enter the following values:\n",
            "Hole (Nos): 34\n",
            "Depth (m): 45\n",
            "Spacing(m): 56\n",
            "Burden (m): 67\n",
            "Stemming(m): 78\n",
            "Decking(m): 45\n",
            "Total Drill (RMT): 45\n",
            "Explosive(kg): 65\n",
            "Volume(m3): 56\n",
            "Powder Factor(kg/m3): 34\n",
            "Av. CPH: 78\n",
            "MCPD (kg/D): 65\n",
            "Seis. Dist. (m): 57\n",
            "\u001b[1m1/1\u001b[0m \u001b[32m━━━━━━━━━━━━━━━━━━━━\u001b[0m\u001b[37m\u001b[0m \u001b[1m0s\u001b[0m 42ms/step\n",
            "Predicted PPV: 320.67 mm/s\n",
            "Application Category: Unknown Category\n"
          ]
        },
        {
          "output_type": "stream",
          "name": "stderr",
          "text": [
            "/usr/local/lib/python3.11/dist-packages/sklearn/utils/validation.py:2739: UserWarning: X does not have valid feature names, but StandardScaler was fitted with feature names\n",
            "  warnings.warn(\n"
          ]
        }
      ]
    }
  ]
}